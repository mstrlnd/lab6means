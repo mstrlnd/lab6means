{
 "cells": [
  {
   "cell_type": "code",
   "execution_count": null,
   "id": "1f56a6b6-e290-45b9-bcf5-39806d9d41d2",
   "metadata": {},
   "outputs": [],
   "source": [
    "#imports\n",
    "import pandas as pd\n",
    "import seaborn as sns\n",
    "import matplotlib.pylab as plt\n",
    "import numpy as np"
   ]
  },
  {
   "cell_type": "code",
   "execution_count": null,
   "id": "8cf87a0c-0744-4501-9da4-ef916129880e",
   "metadata": {},
   "outputs": [],
   "source": [
    "#load data\n",
    "df = pd.read_csv('cdc.csv')\n",
    "#number of rows of data and the number of variables - How many rows are there?  How many variables?\n",
    "df.shape"
   ]
  },
  {
   "cell_type": "code",
   "execution_count": null,
   "id": "ffde42be-eb1f-40b2-9416-041a5062d64c",
   "metadata": {},
   "outputs": [],
   "source": [
    "#preview the first 5 rows of data (some variables might get cut off)\n",
    "df.head()"
   ]
  },
  {
   "cell_type": "code",
   "execution_count": null,
   "id": "402ebc3a-9fad-4408-9bd6-686f07516198",
   "metadata": {},
   "outputs": [],
   "source": [
    "#Check the datatypes.  \"object\" is categorical.  \"int64\" and \"float64\" are numerical \n",
    "df.dtypes"
   ]
  },
  {
   "cell_type": "code",
   "execution_count": null,
   "id": "14bdff7e-f2f5-45bc-84fe-0cbac1d09aa2",
   "metadata": {},
   "outputs": [],
   "source": [
    "#Find the mean of height\n",
    "df['height'].mean()"
   ]
  },
  {
   "cell_type": "code",
   "execution_count": null,
   "id": "4cfbb8c7-74a2-43c4-b456-beca985a4211",
   "metadata": {},
   "outputs": [],
   "source": [
    "#Find the median of height\n",
    "df['height'].median()"
   ]
  },
  {
   "cell_type": "code",
   "execution_count": null,
   "id": "a4ac10fe-c736-473f-a06c-4a5ca4a0c23e",
   "metadata": {},
   "outputs": [],
   "source": [
    "#make a new column called \"height_in\" that is \"height\" converted from meters to inches\n",
    "df['height_in'] = df['height'] * 39.37"
   ]
  },
  {
   "cell_type": "code",
   "execution_count": null,
   "id": "07f7f733-b9f5-4714-90a4-733f3cd31af7",
   "metadata": {},
   "outputs": [],
   "source": [
    "df['height_in'].mean()"
   ]
  },
  {
   "cell_type": "code",
   "execution_count": null,
   "id": "bd96400c-2667-4cfe-bd37-5a29dcaa16cf",
   "metadata": {},
   "outputs": [],
   "source": [
    "#groupby lets you look at the data subset on each category\n",
    "#In each category in eat_breakfast, find the mean of the height\n",
    "df.groupby(['eat_breakfast'])['height_in'].mean()"
   ]
  },
  {
   "cell_type": "markdown",
   "id": "4d29d8db-e392-420c-b259-bc47b76b697a",
   "metadata": {},
   "source": [
    "TimeUse data"
   ]
  },
  {
   "cell_type": "code",
   "execution_count": null,
   "id": "8459e161-f803-477c-a305-8cf8b2a3b872",
   "metadata": {},
   "outputs": [],
   "source": [
    "#load time use data\n",
    "df = pd.read_csv('TimeUse2023.csv')\n",
    "#number of rows of data and the number of variables - How many rows are there?  How many variables?\n",
    "df.shape"
   ]
  },
  {
   "cell_type": "code",
   "execution_count": null,
   "id": "212d9ebf-9318-47f6-9aca-244e8dfb4935",
   "metadata": {},
   "outputs": [],
   "source": [
    "#Check the datatypes.  \"object\" is categorical.  \"int64\" and \"float64\" are numerical \n",
    "df.dtypes"
   ]
  },
  {
   "cell_type": "code",
   "execution_count": null,
   "id": "f1148839-b475-4286-951f-175a0ef8984a",
   "metadata": {},
   "outputs": [],
   "source": [
    "#add a column for day type which is weekend or weekday\n",
    "df['Day_Type'] = np.where((df['Day'] == 'Day 3 - Sat 6am to Sun 6am') | (df['Day'] == 'Day 4 - Sun 6am to M 6am'), 'weekend','weekday')"
   ]
  },
  {
   "cell_type": "code",
   "execution_count": null,
   "id": "b03e1f8e-0ab8-44ea-b0a1-4db94ffc5304",
   "metadata": {},
   "outputs": [],
   "source": [
    "#preview to see if day type worked.\n",
    "df.head()"
   ]
  },
  {
   "cell_type": "code",
   "execution_count": null,
   "id": "3ed67c1b-41bf-48ce-9afa-8bafed11771d",
   "metadata": {},
   "outputs": [],
   "source": [
    "#Day_Type is now listed\n",
    "df.dtypes"
   ]
  },
  {
   "cell_type": "code",
   "execution_count": null,
   "id": "5766df63-7442-4211-8839-106afd9073d9",
   "metadata": {},
   "outputs": [],
   "source": [
    "#make a time series line plot\n",
    "sns.lineplot(data=df, x='Day', y='Other')\n",
    "plt.xticks(rotation=25)"
   ]
  },
  {
   "cell_type": "markdown",
   "id": "e608b131-65f0-4d10-8622-899451d8edbe",
   "metadata": {},
   "source": [
    "Write your code below to complete the lab:"
   ]
  },
  {
   "cell_type": "code",
   "execution_count": null,
   "id": "4346f76d-51d3-48b6-a1b3-d85d576a1fd8",
   "metadata": {},
   "outputs": [],
   "source": []
  }
 ],
 "metadata": {
  "kernelspec": {
   "display_name": "Python 3 (ipykernel)",
   "language": "python",
   "name": "python3"
  },
  "language_info": {
   "codemirror_mode": {
    "name": "ipython",
    "version": 3
   },
   "file_extension": ".py",
   "mimetype": "text/x-python",
   "name": "python",
   "nbconvert_exporter": "python",
   "pygments_lexer": "ipython3",
   "version": "3.9.12"
  }
 },
 "nbformat": 4,
 "nbformat_minor": 5
}
